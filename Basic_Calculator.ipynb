{
 "cells": [
  {
   "cell_type": "code",
   "execution_count": 24,
   "id": "43523e42-b7de-4a45-8aed-2864431c0036",
   "metadata": {},
   "outputs": [
    {
     "name": "stdout",
     "output_type": "stream",
     "text": [
      "Welcome to basic Calculator\n",
      "Select Operation\n",
      "1.Addition\n",
      "2.Subtraction\n",
      "3.Multiplication\n",
      "4.Division\n"
     ]
    },
    {
     "name": "stdin",
     "output_type": "stream",
     "text": [
      "Enter Your Choice: 4\n",
      "Enter First Number: 4\n",
      "Enter Second Number: 0\n"
     ]
    },
    {
     "name": "stdout",
     "output_type": "stream",
     "text": [
      "Error: Division by 0 is not allowed\n"
     ]
    }
   ],
   "source": [
    "def add(x,y):\n",
    "    return x+y\n",
    "def subtract(x,y):\n",
    "    return x-y\n",
    "def multiply(x,y):\n",
    "    return x*y\n",
    "def divide(x,y):\n",
    "    return x/y\n",
    "    \n",
    "print('Welcome to basic Calculator')\n",
    "print('Select Operation')\n",
    "print('1.Addition')\n",
    "print('2.Subtraction')\n",
    "print('3.Multiplication')\n",
    "print('4.Division')\n",
    "while True:\n",
    "    choice= input('Enter Your Choice:')\n",
    "    if choice in('1','2','3','4'):\n",
    "        break\n",
    "    else:\n",
    "        print('Invalid Input')\n",
    "    \n",
    "num1= float(input('Enter First Number:'))\n",
    "num2= float(input('Enter Second Number:'))\n",
    "\n",
    "if choice=='1':\n",
    "    print(f\"Result:{add(num1,num2)}\")\n",
    "elif choice=='2':\n",
    "    print(f\"Result:{subtract(num1,num2)}\")\n",
    "elif choice=='3':\n",
    "    print(f\"Result:{multiply(num1,num2)}\")\n",
    "elif choice=='4':\n",
    "    if num2!=0:\n",
    "        print(f\"Result:{divide(num1,num2)}\")\n",
    "    else:\n",
    "        print('Error: Division by 0 is not allowed')\n",
    "    "
   ]
  },
  {
   "cell_type": "code",
   "execution_count": null,
   "id": "19b73bcc-c26c-463b-8bd7-191413d4c284",
   "metadata": {},
   "outputs": [],
   "source": []
  },
  {
   "cell_type": "code",
   "execution_count": null,
   "id": "d43840cf-dfc5-4dd6-8d05-5d7dd4e59833",
   "metadata": {},
   "outputs": [],
   "source": []
  },
  {
   "cell_type": "code",
   "execution_count": null,
   "id": "b97dd597-902c-40c2-b5bb-df78411e14af",
   "metadata": {},
   "outputs": [],
   "source": []
  },
  {
   "cell_type": "code",
   "execution_count": null,
   "id": "ed364b69-8e5e-4558-bc63-37a148031dea",
   "metadata": {},
   "outputs": [],
   "source": []
  },
  {
   "cell_type": "code",
   "execution_count": null,
   "id": "3d4aa60a-8deb-48fe-95e4-b277042e8671",
   "metadata": {},
   "outputs": [],
   "source": []
  }
 ],
 "metadata": {
  "kernelspec": {
   "display_name": "Python 3 (ipykernel)",
   "language": "python",
   "name": "python3"
  },
  "language_info": {
   "codemirror_mode": {
    "name": "ipython",
    "version": 3
   },
   "file_extension": ".py",
   "mimetype": "text/x-python",
   "name": "python",
   "nbconvert_exporter": "python",
   "pygments_lexer": "ipython3",
   "version": "3.12.7"
  }
 },
 "nbformat": 4,
 "nbformat_minor": 5
}
