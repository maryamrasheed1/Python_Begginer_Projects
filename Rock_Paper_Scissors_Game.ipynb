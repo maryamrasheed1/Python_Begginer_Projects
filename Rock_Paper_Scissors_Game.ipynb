{
 "cells": [
  {
   "cell_type": "code",
   "execution_count": 12,
   "id": "e1880bed-2e63-4c87-8260-79f83a6d9a55",
   "metadata": {},
   "outputs": [
    {
     "name": "stdin",
     "output_type": "stream",
     "text": [
      "Enter rock , paper , scissors: scissors\n"
     ]
    },
    {
     "name": "stdout",
     "output_type": "stream",
     "text": [
      "you chose: scissors\n",
      "computer chose: rock\n",
      "You Lose\n"
     ]
    }
   ],
   "source": [
    "import random\n",
    "choices=[\"rock\" , \"paper\" , \"scissors\"]\n",
    "computer_choice= random.choice(choices)\n",
    "\n",
    "user_choice= input(\"Enter rock , paper , scissors:\").lower()\n",
    "if user_choice not in choices:\n",
    "    print(\"invalid input.\")\n",
    "else:\n",
    "    print (f\"you chose: {user_choice}\")\n",
    "    print (f\"computer chose: {computer_choice}\")\n",
    "if user_choice== computer_choice:\n",
    "    print(\"Its a tie\")\n",
    "elif(user_choice==\"rock\" and computer_choice==\"scissors\") or \\\n",
    "    (user_choice==\"scissors\"and computer_choice==\"paper\") or \\\n",
    "    (user_choice==\"paper\" and computer_choice==\"rock\") :\n",
    "    print(\"You Win\")\n",
    "else:\n",
    "    print(\"You Lose\")"
   ]
  },
  {
   "cell_type": "code",
   "execution_count": null,
   "id": "e3e4d5f4-a8f8-44cd-855b-9cccaa225e33",
   "metadata": {},
   "outputs": [],
   "source": []
  }
 ],
 "metadata": {
  "kernelspec": {
   "display_name": "Python 3 (ipykernel)",
   "language": "python",
   "name": "python3"
  },
  "language_info": {
   "codemirror_mode": {
    "name": "ipython",
    "version": 3
   },
   "file_extension": ".py",
   "mimetype": "text/x-python",
   "name": "python",
   "nbconvert_exporter": "python",
   "pygments_lexer": "ipython3",
   "version": "3.12.7"
  }
 },
 "nbformat": 4,
 "nbformat_minor": 5
}
