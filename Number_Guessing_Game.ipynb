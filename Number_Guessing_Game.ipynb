{
 "cells": [
  {
   "cell_type": "code",
   "execution_count": null,
   "id": "0335446b-0c3c-4da4-b7fd-e776c27f2bcd",
   "metadata": {},
   "outputs": [],
   "source": [
    "import random\n",
    "number_guess= random.randint(1,100)\n",
    "attempt=0\n",
    "while True:\n",
    "    guess= int(input(\"Guess Number (Between 1 and 100):\"))\n",
    "    attempt+=1\n",
    "    if guess < number_guess:\n",
    "        print(\"Too Low!\")\n",
    "    elif guess>number_guess:\n",
    "        print(\"Too High!\")\n",
    "    else:\n",
    "        print(f\"Congratulations! Your Guessed The Corecct Number in {attempt} attempts.\")\n",
    "        break"
   ]
  },
  {
   "cell_type": "code",
   "execution_count": null,
   "id": "0bf87205-72d5-454b-979c-7e15ebaea572",
   "metadata": {},
   "outputs": [],
   "source": []
  },
  {
   "cell_type": "code",
   "execution_count": null,
   "id": "b62fc0c0-a98d-48e5-9095-8f21e0e0f568",
   "metadata": {},
   "outputs": [],
   "source": []
  },
  {
   "cell_type": "code",
   "execution_count": null,
   "id": "f4cfcde7-f24e-4a1c-b060-e8ab5c8fee79",
   "metadata": {},
   "outputs": [],
   "source": []
  },
  {
   "cell_type": "code",
   "execution_count": null,
   "id": "352ab7a8-1e8a-4381-8d95-566cde129239",
   "metadata": {},
   "outputs": [],
   "source": []
  }
 ],
 "metadata": {
  "kernelspec": {
   "display_name": "Python 3 (ipykernel)",
   "language": "python",
   "name": "python3"
  },
  "language_info": {
   "codemirror_mode": {
    "name": "ipython",
    "version": 3
   },
   "file_extension": ".py",
   "mimetype": "text/x-python",
   "name": "python",
   "nbconvert_exporter": "python",
   "pygments_lexer": "ipython3",
   "version": "3.12.7"
  }
 },
 "nbformat": 4,
 "nbformat_minor": 5
}
